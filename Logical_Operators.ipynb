{
 "cells": [
  {
   "cell_type": "code",
   "execution_count": 4,
   "id": "dacac52f",
   "metadata": {},
   "outputs": [],
   "source": [
    "is_magician=True\n",
    "is_expert=False"
   ]
  },
  {
   "cell_type": "code",
   "execution_count": 5,
   "id": "01d7d017",
   "metadata": {},
   "outputs": [
    {
     "name": "stdout",
     "output_type": "stream",
     "text": [
      "Atleast you are getting there\n"
     ]
    }
   ],
   "source": [
    "if is_magician and is_expert:\n",
    "    print(\"you are a master magician\")\n",
    "elif is_magician and not is_expert:\n",
    "    print(\"Atleast you are getting there\")\n",
    "else:\n",
    "    print(\"You need magic powers\")"
   ]
  },
  {
   "cell_type": "code",
   "execution_count": null,
   "id": "d33b3253",
   "metadata": {},
   "outputs": [],
   "source": []
  }
 ],
 "metadata": {
  "kernelspec": {
   "display_name": "Python 3 (ipykernel)",
   "language": "python",
   "name": "python3"
  },
  "language_info": {
   "codemirror_mode": {
    "name": "ipython",
    "version": 3
   },
   "file_extension": ".py",
   "mimetype": "text/x-python",
   "name": "python",
   "nbconvert_exporter": "python",
   "pygments_lexer": "ipython3",
   "version": "3.9.13"
  }
 },
 "nbformat": 4,
 "nbformat_minor": 5
}
